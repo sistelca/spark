{
 "cells": [
  {
   "cell_type": "code",
   "execution_count": 1,
   "metadata": {},
   "outputs": [],
   "source": [
    "import findspark\n",
    "findspark.init()\n",
    "\n",
    "import pyspark\n",
    "\n",
    "from pyspark.sql import SparkSession\n",
    "\n",
    "trab_des_data = 'C:/Users/User/entornos/eltrabajodeseado/analisis_notebooks/usuarios_candidatos_2.csv'\n",
    "\n"
   ]
  },
  {
   "cell_type": "code",
   "execution_count": 2,
   "metadata": {},
   "outputs": [],
   "source": [
    "# create a SparkSession: note this step was left out of the screencast\n",
    "spark = SparkSession.builder \\\n",
    "    .master(\"local\") \\\n",
    "    .appName(\"Clientes\") \\\n",
    "    .getOrCreate()"
   ]
  },
  {
   "cell_type": "code",
   "execution_count": 38,
   "metadata": {},
   "outputs": [
    {
     "name": "stdout",
     "output_type": "stream",
     "text": [
      "root\n",
      " |-- id: string (nullable = true)\n",
      " |-- password1: string (nullable = true)\n",
      " |-- password2: string (nullable = true)\n",
      " |-- email: string (nullable = true)\n",
      " |-- Nombres: string (nullable = true)\n",
      " |-- Apellidos: string (nullable = true)\n",
      " |-- tipo_de_documento: string (nullable = true)\n",
      " |-- documento: string (nullable = true)\n",
      " |-- celular: string (nullable = true)\n",
      " |-- nivel_de_estudios: string (nullable = true)\n",
      " |-- años_de_experiencia: string (nullable = true)\n",
      " |-- ciudad_de_residencia: string (nullable = true)\n",
      " |-- expectativa_salarial: string (nullable = true)\n",
      " |-- perfil_profesional: string (nullable = true)\n",
      " |-- genero: string (nullable = true)\n",
      " |-- estado_civil: string (nullable = true)\n",
      " |-- fecha_de_nacimiento: string (nullable = true)\n",
      " |-- direccion_de_residencia: string (nullable = true)\n",
      " |-- disponibilidad_para_viajar: string (nullable = true)\n",
      " |-- disponibilidad_para_cambiar_de_residencia: string (nullable = true)\n",
      " |-- is_active: string (nullable = true)\n",
      " |-- fecha_de_registro: string (nullable = true)\n",
      " |-- perfil_laboral: string (nullable = true)\n",
      " |-- headshot: string (nullable = true)\n",
      "\n"
     ]
    }
   ],
   "source": [
    "df = spark.read.csv(trab_des_data, header=True, inferSchema=True)\n",
    "\n",
    "df.printSchema()\n"
   ]
  },
  {
   "cell_type": "code",
   "execution_count": 39,
   "metadata": {},
   "outputs": [
    {
     "name": "stdout",
     "output_type": "stream",
     "text": [
      "45211\n",
      "40929\n"
     ]
    }
   ],
   "source": [
    "print(df.count())\n",
    "\n",
    "df = df.distinct()\n",
    "\n",
    "print(df.count())"
   ]
  },
  {
   "cell_type": "code",
   "execution_count": 54,
   "metadata": {},
   "outputs": [
    {
     "name": "stdout",
     "output_type": "stream",
     "text": [
      "+-----+--------------------+------------------+--------------------+-----------------+\n",
      "|   id|               email|           Nombres|           Apellidos|tipo_de_documento|\n",
      "+-----+--------------------+------------------+--------------------+-----------------+\n",
      "| 4464|  silvama7@gmail.com|           Maribel|        Valero Silva|                1|\n",
      "| 4521| ch.arcila@gmail.com|     Carmen Helena|    Arcila Rodríguez|                1|\n",
      "| 4535|amontan1@hotmail.com|            Alvaro|   Montaño Gualteros|                1|\n",
      "| 5620| arlepat@hotmail.com| Arleydis Patricia|       Mejia Alarcón|                1|\n",
      "| 6359|mcmorajimenez@gma...|    Martha Cecilia|        Mora Jiménez|                1|\n",
      "| 6614|cynthiahernandez....|  Cynthia Berenice|    Hernandez Vargas|                1|\n",
      "| 6661|corredorlibys@gma...|             Libys|     Corredor Cortes|                1|\n",
      "| 6793|novoag22@hotmail.com|     Andres Felipe|        Novoa Galvez|                1|\n",
      "| 6953|soleyclarena@hotm...|           Clarena|       Prieto García|                1|\n",
      "| 6990|buendiamario@hotm...|     mario alberto|    buendia quintero|                1|\n",
      "| 7191|erika.alco@gmail.com|     Erika Yulieth|        Alba Cornejo|                1|\n",
      "| 7222|   dogut17@gmail.com|   danser de jesus|       Londoño Tique|                1|\n",
      "| 7805|carjix01@hotmail.com|       Jean Carlos|       Martínez diaz|                1|\n",
      "| 7925|alejandra__1007@h...|   mayra alejandra|        moncada niño|                1|\n",
      "| 8010|varoduncan0562@gm...|            Álvaro|       Duncan Royero|                1|\n",
      "| 8122|viloriacarlos21@g...|            carlos|             viloria|                1|\n",
      "| 8822|amine.safadi@gmai...|      Amine Amparo|       Safadi Suarez|                1|\n",
      "| 9037|marcelitareyes101...|   adriana marcela|     reyes echeverri|                1|\n",
      "| 9424|monicariasrios@gm...|    Monica Yulieth|          Arias Rios|                1|\n",
      "| 9426|cristianalberto19...|          Cristian|     Pacheco Barrios|                1|\n",
      "| 9815|eileen.gutierrez1...|     Eileen Judith|    Gutierrez Davila|                1|\n",
      "| 9931|kaseybuelvas@gmai...|       kasey roger|     buelvas narvaez|                1|\n",
      "|10467|tefarios20@gmail.com|          Stephany|        Castaño Rios|                1|\n",
      "|10606|hernandezbreidys@...|   Breidys Yolanda|  Hernández González|                1|\n",
      "|11130|mandybafo@hotmail...|      AMANDA LUCIA|    BARRIOS FONTALVO|                1|\n",
      "|11748|sisleyztp_03@hotm...|     Bleydi Sisley|     Sarmiento Ariza|                1|\n",
      "|13026|laurazubiria96@ho...|     Laura Marcela|  Granadillo Subiria|                1|\n",
      "|14802|gemaor1994@gmail.com|         Geraldine|     Martínez ortega|                1|\n",
      "|14876| moiscenmo@gmail.com|      moises david|        centeno mora|                1|\n",
      "|14973|luguina2003@gmail...|    Luis Guillermo|         Matos Salas|                1|\n",
      "|15209| mayer1989@yahoo.com|         mayerline|       ospina garcia|                1|\n",
      "|15254|landy1418@hotmail...| angelica patricia|       molina florez|                1|\n",
      "|15352|jerfryn.avila@gma...|  jerfryn de jesus|         avila pardo|                1|\n",
      "|15740|latehortua@gmail.com|          Leonardo|    Atehortua Castro|                1|\n",
      "|16023|breinerfuentes@ho...|     Brainer Yesid|        Fuentes Polo|                1|\n",
      "|16133| lukis_0124@live.com|   Adriana marcela|      Pérez zambrano|                1|\n",
      "|16296|jpo_1990@hotmail.com|          Jonathan|      Polania Osorio|                1|\n",
      "|16481| silli14@hotmail.com|     Shirly Vianey|       Ruiz Palomino|                1|\n",
      "|16545|didieranier8@gmai...|    Didier Sneider|      Reina Gonzalez|                1|\n",
      "|16837|hamiltonalexander...|Hamilton Alexander|         Ñañez Gomez|                1|\n",
      "|17211|marlen.siatovar@g...|            Marlen|       Siatova Riaño|                1|\n",
      "|17325|finny.life@gmail.com|             Fanny|          Cruz Jojoa|                1|\n",
      "|17406|arqui.saul@gmail.com|       Saul Miguel|     Llanos Sandoval|                1|\n",
      "|17630|nagagi2001@yahoo.com|       NANCY YANET|          GARCIA GIL|                1|\n",
      "|17664|gabkar31@hotmail.com| Gabriel Alejandro|     Diaz Villarruel|                1|\n",
      "|17911|tatianabvesga@hot...|   Julieth Tatiana|       Bacareo Vesga|                1|\n",
      "|18087|kathyp1972@hotmai...|    Katherine Mery|        Pereira Real|                1|\n",
      "|18098|sol_0595@outlook.com|           Marisol|      Contreras Peña|                1|\n",
      "|18591|julianserna05.js@...|            Julian|     Alberto Florian|                1|\n",
      "|18906| genyejm@hotmail.com|              Geny|    Jimenez Marcillo|                1|\n",
      "|18971|marianamartinez03...|           mariana|    martinez padilla|                1|\n",
      "|19402|salimhabibe@hotma...|       Salim habib|       Habibe robles|                1|\n",
      "|19607|  anmabeco@yahoo.com|    Angelica Maria|     Bermudez Correa|                1|\n",
      "|19907|algallego@uninort...|         Ana Lucía|      Gallego Urbina|                1|\n",
      "|20600|yorleny412@gmail.com|           Yorleny|       Florez Tamayo|                1|\n",
      "|20969|sararinconpinto@g...|     Sara Angelica|        Rincón Pinto|                1|\n",
      "|21135|elme_790@hotmail.com|             Elvio|              Medina|                3|\n",
      "|21406|ajaponte.palomino...|      Augusto Jose|     Aponte Palomino|                1|\n",
      "|22974|y-ani2488@hotmail...|   Yanith Mercedes|  Sandoval De la hoz|                1|\n",
      "|23304|vamijhocamargo@ho...|      Daiam Milena|   Camargo Rodríguez|                1|\n",
      "|23650|elicami9@hotmail.com|        Luz Eliana|       Pérez Cancino|                1|\n",
      "|23691|     gufobe@yahoo.es|   Gustavo Enrique|      Fonseca Bernal|                1|\n",
      "|24159|rafl2509@hotmail.com|      RAFAEL JESUS|    FLOREZ RODRIGUEZ|                1|\n",
      "| 4434|afestradam@gmail.com|     Andrés Felipe|     Estrada Mendoza|                1|\n",
      "| 4653|mypatyvel05@hotma...|   Myriam Patricia|    Velandia Perdomo|                1|\n",
      "| 4691|chicasanchez99@gm...|         Ana María|       Chica Sánchez|                1|\n",
      "| 4789|yuli_p32@hotmail.com|        Yuli Paola|     Gallego Aguirre|                1|\n",
      "| 5199|    pau2682@yahoo.es|       JENNY PAOLA|     DURAN SARMIENTO|                1|\n",
      "| 6798|alveardanna@hotma...|     Danna Vanessa|    Hernandez Alvear|                1|\n",
      "| 6868|davidcha67@hotmai...|             David|              Chavez|                1|\n",
      "| 7192|vargasmv_1015@hot...|    Moises Alberto|      Vargas Navarro|                1|\n",
      "| 8125|tatiana3g2@gmail.com|           Tatiana|     García Grajales|                1|\n",
      "| 8284|katherinebarriost...| Katherine Vanessa|     Barrios Toscano|                1|\n",
      "| 8326|cristiangalileo@h...|   Cristian Camilo|   Castañeda Quiceno|                1|\n",
      "| 8493|  suydiana@gmail.com|     Diana Marcela|       Romero García|                1|\n",
      "| 9072|lecorbucie@hotmai...|    frank de jesus|medero valdeblanquez|                1|\n",
      "| 9210|kmcarrillo80@mise...|  Kathlyn Misshell|     Carillo Silvera|                1|\n",
      "| 9285|yeseniaosorio19@g...|    angela yesenia|      osorio alvarez|                1|\n",
      "| 9559|materamarielys@gm...|   marielys emilia|    matera galipolly|                3|\n",
      "| 9604|zamarduque@gmail.com|    Zamar Cristina|      Duque Lizarazo|                1|\n",
      "| 9724|julitativides@hot...|           Julieth|        Vides matute|                1|\n",
      "| 9803|lera29_29@hotmail...|   Luisa Estefania|     Rodriguez Arcia|                1|\n",
      "| 9848|kleinysterraza@ho...|     kleinys Darid|   Fernandez Terraza|                1|\n",
      "|10038|martinrgz0490@gma...|     Martín Emilio|    Rosales Gonzalez|                1|\n",
      "|10160|lpaobg1504@gmail.com|       Leidy Paola|      Bonilla Galvis|                1|\n",
      "|10424|tati310284@hotmai...|   Maryury tatiana|    Riobo avellaneda|                1|\n",
      "|10466|luzdarytrabajosoc...|          Luz Dary|      Barreto Ferrer|                1|\n",
      "|10726|mileprieto1991@li...|            MILENA|      PRIETOMARTINEZ|                1|\n",
      "|10922|   jcgsc@hotmail.com|       Juan Camilo|    Gonzalez Saldaña|                1|\n",
      "|11571| freeledez@gmail.com|         Eva Maria|      Campos Ledezma|                3|\n",
      "|11829|shedaya22@hotmail...|  Sheyla Stephanie|         Diaz Castro|                1|\n",
      "|11926|josecera16@hotmai...|      jose alberto|        cera pedroza|                1|\n",
      "|11994|nercyta24@hotmail...|             NERCY|      ISABEL FONSECA|                1|\n",
      "|12485|apontetatiana28@g...|     Leidy Tatiana|        Aponte Pérez|                1|\n",
      "|12641|marnel1026@hotmai...|      Martha Edith|     Rivera Mosquera|                1|\n",
      "|12673|solereduarfabian@...|      Eduar Fabián|        Soler García|                1|\n",
      "|12961|oscarevangelista0...|     oscar eduardo|   evangelista valle|                1|\n",
      "|12972|ye.nifer022@hotma...|     yenifer sofia|    Carrillo saucedo|                1|\n",
      "|13080|jorgmariobohr@gma...|       Jorge Mario|   Bohorquez Sanchez|                1|\n",
      "|13220|harold-2512@hotma...|    HAROLD SEGUNDO|  ARRIETA MONTERROZA|                1|\n",
      "+-----+--------------------+------------------+--------------------+-----------------+\n",
      "only showing top 100 rows\n",
      "\n"
     ]
    }
   ],
   "source": [
    "from pyspark.sql.functions import udf\n",
    "import re\n",
    "\n",
    "def es_correo_valido(correo):\n",
    "    expresion_regular = r\"(?:[a-z0-9!#$%&'*+/=?^_`{|}~-]+(?:\\.[a-z0-9!#$%&'*+/=?^_`{|}~-]+)*|\\\"(?:[\\x01-\\x08\\x0b\\x0c\\x0e-\\x1f\\x21\\x23-\\x5b\\x5d-\\x7f]|\\\\[\\x01-\\x09\\x0b\\x0c\\x0e-\\x7f])*\\\")@(?:(?:[a-z0-9](?:[a-z0-9-]*[a-z0-9])?\\.)+[a-z0-9](?:[a-z0-9-]*[a-z0-9])?|\\[(?:(?:(2(5[0-5]|[0-4][0-9])|1[0-9][0-9]|[1-9]?[0-9]))\\.){3}(?:(2(5[0-5]|[0-4][0-9])|1[0-9][0-9]|[1-9]?[0-9])|[a-z0-9-]*[a-z0-9]:(?:[\\x01-\\x08\\x0b\\x0c\\x0e-\\x1f\\x21-\\x5a\\x53-\\x7f]|\\\\[\\x01-\\x09\\x0b\\x0c\\x0e-\\x7f])+)\\])\"\n",
    "    if re.match(expresion_regular, correo) is not None:\n",
    "        return correo\n",
    "\n",
    "\n",
    "validoMail = udf(lambda x: es_correo_valido(x))\n",
    "df.filter(validoMail(df.email)==df.email).select(['id', 'email', 'Nombres', 'Apellidos', 'tipo_de_documento']).show(100)\n"
   ]
  },
  {
   "cell_type": "code",
   "execution_count": 52,
   "metadata": {},
   "outputs": [
    {
     "ename": "TypeError",
     "evalue": "'>' not supported between instances of 'str' and 'int'",
     "output_type": "error",
     "traceback": [
      "\u001b[1;31m---------------------------------------------------------------------------\u001b[0m",
      "\u001b[1;31mTypeError\u001b[0m                                 Traceback (most recent call last)",
      "\u001b[1;32m<ipython-input-52-66a784f59dcd>\u001b[0m in \u001b[0;36m<module>\u001b[1;34m\u001b[0m\n\u001b[1;32m----> 1\u001b[1;33m \u001b[0mdf\u001b[0m\u001b[1;33m.\u001b[0m\u001b[0mfilter\u001b[0m\u001b[1;33m(\u001b[0m\u001b[1;34m'id'\u001b[0m \u001b[1;33m>\u001b[0m \u001b[1;36m0\u001b[0m\u001b[1;33m)\u001b[0m\u001b[1;33m.\u001b[0m\u001b[0mdf\u001b[0m\u001b[1;33m.\u001b[0m\u001b[0mselect\u001b[0m\u001b[1;33m(\u001b[0m\u001b[1;33m[\u001b[0m\u001b[1;34m'id'\u001b[0m\u001b[1;33m,\u001b[0m\u001b[1;34m'password1'\u001b[0m\u001b[1;33m,\u001b[0m\u001b[1;34m'email'\u001b[0m\u001b[1;33m,\u001b[0m \u001b[1;34m'Nombres'\u001b[0m\u001b[1;33m,\u001b[0m \u001b[1;34m'Apellidos'\u001b[0m\u001b[1;33m]\u001b[0m\u001b[1;33m)\u001b[0m\u001b[1;33m.\u001b[0m\u001b[0mshow\u001b[0m\u001b[1;33m(\u001b[0m\u001b[1;33m)\u001b[0m\u001b[1;33m\u001b[0m\u001b[1;33m\u001b[0m\u001b[0m\n\u001b[0m",
      "\u001b[1;31mTypeError\u001b[0m: '>' not supported between instances of 'str' and 'int'"
     ]
    }
   ],
   "source": [
    "df.filter('id' > 0).df.select(['id','password1','email', 'Nombres', 'Apellidos']).show()"
   ]
  },
  {
   "cell_type": "code",
   "execution_count": null,
   "metadata": {},
   "outputs": [],
   "source": [
    "lista_indices_usuarios = frame_usuarios['id'].values\n",
    "i =1\n",
    "candidatos = []\n",
    "\n",
    "for indice in lista_indices_usuarios:\n",
    "    print(indice, end=', ')\n",
    "    \n",
    "    campos = dict(zip(frame_usuarios.columns, frame_usuarios.loc[frame_usuarios['id']==indice].values[0]))\n",
    "    campos['perfil_laboral'] = json.loads(campos['perfil_laboral'])\n",
    "    del campos[\"id\"]\n",
    "    dic_candi = {\"model\": \"cuentas.candidatos\", \"pk\": i, \n",
    "        'fields': campos}\n",
    "    candidatos.append(dic_candi)\n",
    "\n",
    "    \n",
    "    i += 1\n",
    "    \n",
    "    #if i > 20:\n",
    "    #    break\n",
    "\n"
   ]
  },
  {
   "cell_type": "markdown",
   "metadata": {},
   "source": [
    "### Las siguientes celdas solo sirven como repositorio, ya fueron ejecutadas y su resultado actualizo el dataframe y json"
   ]
  },
  {
   "cell_type": "code",
   "execution_count": null,
   "metadata": {},
   "outputs": [],
   "source": [
    "lista_indices_usuarios = frame_usuarios['id'].values\n",
    "i = 1\n",
    "\n",
    "for indice in lista_indices_usuarios:\n",
    "    var = frame_usuarios.loc[frame_usuarios['id']==indice].values\n",
    "    print(var, end=', ')\n",
    "    \n",
    "    i += 1\n",
    "    #if i > 1:\n",
    "    #    break"
   ]
  },
  {
   "cell_type": "code",
   "execution_count": null,
   "metadata": {
    "scrolled": true
   },
   "outputs": [],
   "source": [
    "import datetime\n",
    "\n",
    "def valida_fecha(var):\n",
    "    try:\n",
    "        fecha = datetime.datetime(year=int(var[-4:]),month=int(var[3:5]),day=int(var[0:2]))\n",
    "        es_valida = True\n",
    "    except:\n",
    "        es_valida = False\n",
    "        \n",
    "    return es_valida\n",
    "\n",
    "\n",
    "lista_indices_usuarios = frame_usuarios['id'].values\n",
    "i = 1\n",
    "\n",
    "for indice in lista_indices_usuarios:\n",
    "    var = frame_usuarios.loc[frame_usuarios['id']==indice]['fecha_de_nacimiento'].values[0]\n",
    "    fecha_nueva = var[-2:]+'/'+var[5:7]+'/'+var[0:4]\n",
    "    \n",
    "    var1 = frame_usuarios.loc[frame_usuarios['id']==indice]['fecha_de_registro'].values[0]\n",
    "    fecha_nueva1 = var1[-2:]+'/'+var1[5:7]+'/'+var1[0:4]\n",
    "\n",
    "    if valida_fecha(fecha_nueva):\n",
    "        frame_usuarios.loc[frame_usuarios['id']==indice, ['fecha_de_nacimiento']] = fecha_nueva\n",
    "    else:\n",
    "        frame_usuarios.loc[frame_usuarios['id']==indice, ['fecha_de_nacimiento']] = '01/01/2019'\n",
    "\n",
    "    if valida_fecha(fecha_nueva1):\n",
    "        frame_usuarios.loc[frame_usuarios['id']==indice, ['fecha_de_registro']] = fecha_nueva1\n",
    "    else:\n",
    "        frame_usuarios.loc[frame_usuarios['id']==indice, ['fecha_de_registro']] = '19/01/2019'\n",
    "    print(fecha_nueva, fecha_nueva1)"
   ]
  },
  {
   "cell_type": "code",
   "execution_count": null,
   "metadata": {},
   "outputs": [],
   "source": [
    "faltan = [ 'Nombres', 'Apellidos', 'celular', 'nivel_de_estudios', 'perfil_profesional', 'genero',\n",
    "          'estado_civil', 'direccion_de_residencia']\n",
    "\n",
    "for falta in faltan:\n",
    "    frame_usuarios.loc[frame_usuarios[falta].isnull(), falta] = ''"
   ]
  },
  {
   "cell_type": "code",
   "execution_count": null,
   "metadata": {},
   "outputs": [],
   "source": [
    "premion = [ 'dianadelgadoing@gmail.com',   'wilmerandreszerpa@hotmail.com', 'rodriguezaguilarjc@hotmail.com',\n",
    "           'bibanez04@gmail.com', 'carcinie@gmail.com', 'luisarcinie1@gmail.com', 'valentincc94m@gmail.com' ]\n",
    "\n",
    "frame_usuarios['is_active'] = False\n",
    "\n",
    "for premi in premion:\n",
    "    frame_usuarios.loc[frame_usuarios['email']==premi, ['is_active']] = True"
   ]
  },
  {
   "cell_type": "code",
   "execution_count": null,
   "metadata": {},
   "outputs": [],
   "source": [
    "lista_indices_usuarios = frame_usuarios['id'].values\n",
    "i = 1\n",
    "\n",
    "for indice in lista_indices_usuarios:\n",
    "    var = frame_usuarios.loc[frame_usuarios['id']==indice]['fecha_de_nacimiento'].values[0]\n",
    "    fecha_nueva = var[-4:]+'/'+var[3:5]+'/'+var[0:2]\n",
    "    \n",
    "    var1 = frame_usuarios.loc[frame_usuarios['id']==indice]['fecha_de_registro'].values[0]\n",
    "    fecha_nueva1 = var1[-4:]+'/'+var1[3:5]+'/'+var1[0:2]\n",
    "\n",
    "    frame_usuarios.loc[frame_usuarios['id']==indice, ['fecha_de_nacimiento']] = fecha_nueva\n",
    "    frame_usuarios.loc[frame_usuarios['id']==indice, ['fecha_de_registro']] = fecha_nueva1\n",
    "    \n",
    "    print(fecha_nueva, fecha_nueva1)"
   ]
  },
  {
   "cell_type": "code",
   "execution_count": null,
   "metadata": {},
   "outputs": [],
   "source": [
    "var = '29/01/2019'\n",
    "var[-4:]\n",
    "var[0:2]\n",
    "var[3:5]"
   ]
  },
  {
   "cell_type": "code",
   "execution_count": null,
   "metadata": {},
   "outputs": [],
   "source": [
    "frame_usuarios.to_csv('usuarios_candidatos_2.csv',index=False)\n",
    "frame_usuarios.info()"
   ]
  },
  {
   "cell_type": "code",
   "execution_count": null,
   "metadata": {},
   "outputs": [],
   "source": [
    "frame_usuarios.loc[frame_usuarios['is_active']==True]"
   ]
  },
  {
   "cell_type": "code",
   "execution_count": null,
   "metadata": {},
   "outputs": [],
   "source": [
    "\n",
    "           'bibanez04@gmail.com', "
   ]
  },
  {
   "cell_type": "code",
   "execution_count": null,
   "metadata": {},
   "outputs": [],
   "source": [
    "user = int(frame_usuarios.loc[frame_usuarios['id']==23973].index[0])\n",
    "user"
   ]
  },
  {
   "cell_type": "code",
   "execution_count": null,
   "metadata": {},
   "outputs": [],
   "source": [
    "frame_usuarios = frame_usuarios.loc[frame_usuarios['is_active']]"
   ]
  },
  {
   "cell_type": "code",
   "execution_count": null,
   "metadata": {},
   "outputs": [],
   "source": [
    "filas = frame_usuarios['id'].values\n",
    "\n",
    "for fila in filas:\n",
    "    temp = frame_usuarios.loc[frame_usuarios['id']==fila]\n",
    "    \n",
    "    for columna in temp.columns:\n",
    "        print(f\"{columna}, {temp[columna].values}\")\n",
    "    print('=================')"
   ]
  },
  {
   "cell_type": "code",
   "execution_count": null,
   "metadata": {},
   "outputs": [],
   "source": [
    "frame_usuarios"
   ]
  },
  {
   "cell_type": "code",
   "execution_count": null,
   "metadata": {},
   "outputs": [],
   "source": [
    "filas"
   ]
  },
  {
   "cell_type": "code",
   "execution_count": null,
   "metadata": {},
   "outputs": [],
   "source": []
  }
 ],
 "metadata": {
  "kernelspec": {
   "display_name": "Python 3",
   "language": "python",
   "name": "python3"
  },
  "language_info": {
   "codemirror_mode": {
    "name": "ipython",
    "version": 3
   },
   "file_extension": ".py",
   "mimetype": "text/x-python",
   "name": "python",
   "nbconvert_exporter": "python",
   "pygments_lexer": "ipython3",
   "version": "3.7.4"
  }
 },
 "nbformat": 4,
 "nbformat_minor": 2
}
