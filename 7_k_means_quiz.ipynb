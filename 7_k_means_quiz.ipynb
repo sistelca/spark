{
 "cells": [
  {
   "cell_type": "code",
   "execution_count": 65,
   "metadata": {},
   "outputs": [],
   "source": [
    "import findspark\n",
    "findspark.init()\n",
    "\n",
    "import pyspark\n",
    "\n",
    "from pyspark.sql import SparkSession\n",
    "from pyspark.ml.feature import RegexTokenizer, VectorAssembler, Normalizer, StandardScaler, MinMaxScaler\n",
    "from pyspark.sql.functions import udf, concat, lit, col, avg, max, min, stddev, count\n",
    "from pyspark.sql.types import IntegerType\n",
    "\n",
    "from pyspark.ml.clustering import KMeans"
   ]
  },
  {
   "cell_type": "code",
   "execution_count": 2,
   "metadata": {},
   "outputs": [],
   "source": [
    "# create a SparkSession: note this step was left out of the screencast\n",
    "spark = SparkSession.builder \\\n",
    "    .master(\"local\") \\\n",
    "    .appName(\"Word Count\") \\\n",
    "    .getOrCreate()"
   ]
  },
  {
   "cell_type": "markdown",
   "metadata": {},
   "source": [
    "### Read dataset"
   ]
  },
  {
   "cell_type": "code",
   "execution_count": 3,
   "metadata": {},
   "outputs": [],
   "source": [
    "stack_overflow_data = 'data/Train_onetag_small.json'"
   ]
  },
  {
   "cell_type": "code",
   "execution_count": 4,
   "metadata": {},
   "outputs": [],
   "source": [
    "df = spark.read.json(stack_overflow_data)"
   ]
  },
  {
   "cell_type": "markdown",
   "metadata": {},
   "source": [
    "### Build Description Length Features"
   ]
  },
  {
   "cell_type": "code",
   "execution_count": 5,
   "metadata": {},
   "outputs": [],
   "source": [
    "df = df.withColumn(\"Desc\", concat(col(\"Title\"), lit(' '), col(\"Body\")))"
   ]
  },
  {
   "cell_type": "code",
   "execution_count": 6,
   "metadata": {},
   "outputs": [],
   "source": [
    "regexTokenizer = RegexTokenizer(inputCol=\"Desc\", outputCol=\"words\", pattern=\"\\\\W\")\n",
    "df = regexTokenizer.transform(df)"
   ]
  },
  {
   "cell_type": "code",
   "execution_count": 7,
   "metadata": {},
   "outputs": [],
   "source": [
    "body_length = udf(lambda x : len(x), IntegerType())\n",
    "df = df.withColumn(\"DescLength\", body_length(df.words))"
   ]
  },
  {
   "cell_type": "code",
   "execution_count": 8,
   "metadata": {},
   "outputs": [],
   "source": [
    "assembler = VectorAssembler(inputCols=[\"DescLength\"], outputCol=\"DescVec\")\n",
    "df = assembler.transform(df)"
   ]
  },
  {
   "cell_type": "code",
   "execution_count": 9,
   "metadata": {},
   "outputs": [],
   "source": [
    "number_of_tags = udf(lambda x : len(x.split(\" \")), IntegerType())\n",
    "df = df.withColumn(\"NumTags\", number_of_tags(df.Tags))"
   ]
  },
  {
   "cell_type": "markdown",
   "metadata": {},
   "source": [
    "### Question 1"
   ]
  },
  {
   "cell_type": "code",
   "execution_count": 32,
   "metadata": {},
   "outputs": [],
   "source": [
    "# How many times greater is the Description Length of the longest question than the Description Length\n",
    "# of the shortest question (rounded to the nearest whole number)?\n",
    "\n",
    "# Tip: Don't forget to import Spark SQL's aggregate functions that can operate on DataFrame columns.\n",
    "\n",
    "\n",
    "maxLengDesc = df.select([max(\"DescLength\")])\n",
    "\n",
    "minLengDesc = df.select([min(\"DescLength\")])\n",
    "\n",
    "print(f'valor maximo de descripcion es \\\n",
    "      {maxLengDesc.collect()[0][\"max(DescLength)\"] // minLengDesc.collect()[0][\"min(DescLength)\"]} \\\n",
    "      veces mayor que valor minimo')"
   ]
  },
  {
   "cell_type": "code",
   "execution_count": 48,
   "metadata": {},
   "outputs": [
    {
     "name": "stdout",
     "output_type": "stream",
     "text": [
      "valor maximo de descripcion es       753       veces mayor que valor minimo\n"
     ]
    }
   ],
   "source": [
    "print(f'valor maximo de descripcion es \\\n",
    "      {maxLengDesc.collect()[0][\"max(DescLength)\"] // minLengDesc.collect()[0][\"min(DescLength)\"]} \\\n",
    "      veces mayor que valor minimo')"
   ]
  },
  {
   "cell_type": "code",
   "execution_count": 56,
   "metadata": {},
   "outputs": [
    {
     "name": "stdout",
     "output_type": "stream",
     "text": [
      "media: 180.28187\n",
      "dev std: 192.10819533505023\n"
     ]
    }
   ],
   "source": [
    "# What is the mean and standard deviation of the Description length?\n",
    "\n",
    "meanLenDesc = df.select([avg(\"DescLength\")])\n",
    "stdvLenDesc = df.select([stddev(\"DescLength\")])\n",
    "\n",
    "print(f'media: { meanLenDesc.collect()[0][\"avg(DescLength)\"] }')\n",
    "print(f'dev std: { stdvLenDesc.collect()[0][\"stddev_samp(DescLength)\"] }')"
   ]
  },
  {
   "cell_type": "code",
   "execution_count": 62,
   "metadata": {},
   "outputs": [],
   "source": [
    "# Let's use K-means to create 5 clusters of Description Lengths. \n",
    "# Set the random seed to 42 and fit a 5-class K-means model on the Description \n",
    "# Length column (you can use KMeans().setParams(...) ).\n",
    "# What length is the center of the cluster representing the longest questions?\n",
    "\n",
    "kmeans = KMeans().setParams(featuresCol=\"DescVec\", predictionCol=\"DescGroup\", k=5, seed=42)\n",
    "model = kmeans.fit(df)\n",
    "df = model.transform(df)"
   ]
  },
  {
   "cell_type": "code",
   "execution_count": 66,
   "metadata": {},
   "outputs": [
    {
     "name": "stdout",
     "output_type": "stream",
     "text": [
      "+---------+------------------+------------------+-----------------+\n",
      "|DescGroup|   avg(DescLength)|      avg(NumTags)|count(DescLength)|\n",
      "+---------+------------------+------------------+-----------------+\n",
      "|        0| 96.02297592997812|2.7428884026258205|            63066|\n",
      "|        4|238.22969197457567|3.0864357058042886|            28634|\n",
      "|        1|    492.6833982403|3.2330881292369824|             6933|\n",
      "|        3|1062.4118629908103|3.2957393483709274|             1197|\n",
      "|        2|2726.1882352941175|3.4235294117647057|              170|\n",
      "+---------+------------------+------------------+-----------------+\n",
      "\n"
     ]
    }
   ],
   "source": [
    "df.groupby(\"DescGroup\").agg(avg(col(\"DescLength\")), avg(col(\"NumTags\")), count(col(\"DescLength\"))).orderBy(\"avg(DescLength)\").show()"
   ]
  },
  {
   "cell_type": "code",
   "execution_count": null,
   "metadata": {},
   "outputs": [],
   "source": []
  }
 ],
 "metadata": {
  "kernelspec": {
   "display_name": "Python 3",
   "language": "python",
   "name": "python3"
  },
  "language_info": {
   "codemirror_mode": {
    "name": "ipython",
    "version": 3
   },
   "file_extension": ".py",
   "mimetype": "text/x-python",
   "name": "python",
   "nbconvert_exporter": "python",
   "pygments_lexer": "ipython3",
   "version": "3.7.4"
  }
 },
 "nbformat": 4,
 "nbformat_minor": 2
}
